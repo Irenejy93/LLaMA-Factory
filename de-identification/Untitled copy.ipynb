{
 "cells": [
  {
   "cell_type": "code",
   "execution_count": 1,
   "id": "f19e296a-637c-474a-ba41-097248c9719d",
   "metadata": {},
   "outputs": [],
   "source": [
    "import json\n",
    "import os\n",
    "import glob\n",
    "file_path = './dummy_data/conversation.json'\n",
    "from tqdm import tqdm"
   ]
  },
  {
   "cell_type": "code",
   "execution_count": 2,
   "id": "7d82e70b-990f-4f2a-975c-1906c2de6a4c",
   "metadata": {},
   "outputs": [
    {
     "ename": "FileNotFoundError",
     "evalue": "[Errno 2] No such file or directory: './dummy_data/conversation.json'",
     "output_type": "error",
     "traceback": [
      "\u001b[0;31m---------------------------------------------------------------------------\u001b[0m",
      "\u001b[0;31mFileNotFoundError\u001b[0m                         Traceback (most recent call last)",
      "Cell \u001b[0;32mIn[2], line 2\u001b[0m\n\u001b[1;32m      1\u001b[0m \u001b[38;5;28;01mimport\u001b[39;00m \u001b[38;5;21;01mjson\u001b[39;00m\n\u001b[0;32m----> 2\u001b[0m \u001b[38;5;28;01mwith\u001b[39;00m \u001b[38;5;28;43mopen\u001b[39;49m\u001b[43m(\u001b[49m\u001b[43mfile_path\u001b[49m\u001b[43m,\u001b[49m\u001b[43m \u001b[49m\u001b[38;5;124;43m'\u001b[39;49m\u001b[38;5;124;43mr\u001b[39;49m\u001b[38;5;124;43m'\u001b[39;49m\u001b[43m,\u001b[49m\u001b[43mencoding\u001b[49m\u001b[38;5;241;43m=\u001b[39;49m\u001b[38;5;124;43m'\u001b[39;49m\u001b[38;5;124;43mutf-8\u001b[39;49m\u001b[38;5;124;43m'\u001b[39;49m\u001b[43m,\u001b[49m\u001b[43m \u001b[49m\u001b[43merrors\u001b[49m\u001b[38;5;241;43m=\u001b[39;49m\u001b[38;5;124;43m'\u001b[39;49m\u001b[38;5;124;43mreplace\u001b[39;49m\u001b[38;5;124;43m'\u001b[39;49m\u001b[43m)\u001b[49m \u001b[38;5;28;01mas\u001b[39;00m f:\n\u001b[1;32m      3\u001b[0m     data \u001b[38;5;241m=\u001b[39m json\u001b[38;5;241m.\u001b[39mload(f)\n",
      "File \u001b[0;32m/opt/homebrew/anaconda3/envs/openAI/lib/python3.10/site-packages/IPython/core/interactiveshell.py:324\u001b[0m, in \u001b[0;36m_modified_open\u001b[0;34m(file, *args, **kwargs)\u001b[0m\n\u001b[1;32m    317\u001b[0m \u001b[38;5;28;01mif\u001b[39;00m file \u001b[38;5;129;01min\u001b[39;00m {\u001b[38;5;241m0\u001b[39m, \u001b[38;5;241m1\u001b[39m, \u001b[38;5;241m2\u001b[39m}:\n\u001b[1;32m    318\u001b[0m     \u001b[38;5;28;01mraise\u001b[39;00m \u001b[38;5;167;01mValueError\u001b[39;00m(\n\u001b[1;32m    319\u001b[0m         \u001b[38;5;124mf\u001b[39m\u001b[38;5;124m\"\u001b[39m\u001b[38;5;124mIPython won\u001b[39m\u001b[38;5;124m'\u001b[39m\u001b[38;5;124mt let you open fd=\u001b[39m\u001b[38;5;132;01m{\u001b[39;00mfile\u001b[38;5;132;01m}\u001b[39;00m\u001b[38;5;124m by default \u001b[39m\u001b[38;5;124m\"\u001b[39m\n\u001b[1;32m    320\u001b[0m         \u001b[38;5;124m\"\u001b[39m\u001b[38;5;124mas it is likely to crash IPython. If you know what you are doing, \u001b[39m\u001b[38;5;124m\"\u001b[39m\n\u001b[1;32m    321\u001b[0m         \u001b[38;5;124m\"\u001b[39m\u001b[38;5;124myou can use builtins\u001b[39m\u001b[38;5;124m'\u001b[39m\u001b[38;5;124m open.\u001b[39m\u001b[38;5;124m\"\u001b[39m\n\u001b[1;32m    322\u001b[0m     )\n\u001b[0;32m--> 324\u001b[0m \u001b[38;5;28;01mreturn\u001b[39;00m \u001b[43mio_open\u001b[49m\u001b[43m(\u001b[49m\u001b[43mfile\u001b[49m\u001b[43m,\u001b[49m\u001b[43m \u001b[49m\u001b[38;5;241;43m*\u001b[39;49m\u001b[43margs\u001b[49m\u001b[43m,\u001b[49m\u001b[43m \u001b[49m\u001b[38;5;241;43m*\u001b[39;49m\u001b[38;5;241;43m*\u001b[39;49m\u001b[43mkwargs\u001b[49m\u001b[43m)\u001b[49m\n",
      "\u001b[0;31mFileNotFoundError\u001b[0m: [Errno 2] No such file or directory: './dummy_data/conversation.json'"
     ]
    }
   ],
   "source": [
    "import json\n",
    "with open(file_path, 'r',encoding='utf-8', errors='replace') as f:\n",
    "    data = json.load(f)"
   ]
  },
  {
   "cell_type": "code",
   "execution_count": 178,
   "id": "5b20532b-9ec6-4964-bbbe-d30e9c56262a",
   "metadata": {},
   "outputs": [],
   "source": [
    "# from langchain_openai import AzureChatOpenAI\n",
    "# from langchain.prompts import (ChatPromptTemplate, HumanMessagePromptTemplate,PromptTemplate)\n",
    "# from langchain_core.output_parsers import StrOutputParser\n",
    "import os\n",
    "from openai import AzureOpenAI\n",
    "\n",
    "client = OpenAI(api_key=\"Key값\")\n",
    "\n"
   ]
  },
  {
   "cell_type": "code",
   "execution_count": 179,
   "id": "118ba00e-00b1-4209-bb16-da3e8c16e88b",
   "metadata": {},
   "outputs": [],
   "source": [
    "def generate_chat(user_content):\n",
    "            \n",
    "    system_prompt = \"\"\"당신은 가상의 상담 기록 로봇입니다.\\n\n",
    "    주어진 대화와 유사하게 고객의 불편사항을 접수하고, 해결법을 제시하는 새로운 대화내용을 작성해주세요.\\n\n",
    "    대화 내역안에 반드시 이름, 연락처, 주소, 계좌번호와 같은 개인정보를 대화에 추가해주세요. \\n\n",
    "    작성하는 상담기록에는 단어 o 또는 O 와 같은 빈값은 제거하거나 채워주세요.\\n\n",
    "    대화가 12번의 턴이 넘어가지않도록 작성하세요. \\n\n",
    "    개인정보나 연락처를 작성할때만큼은 글머리 기호나, 나열식 방식을 쓰지말고 평문으로 이어서 쓰십시오 \\n\n",
    "    해당 대사가 상담사일 경우 상담사 : , 고객일 경우 고객: 을 분장 앞에 채워넣어주세요. \\n\n",
    "    당신이 참고할 대화내역 입니다. 아래의 게시물로 부터 아이디어를 얻고 작성하세요 \\n: 입력:\"\"\"\n",
    "    response = client.chat.completions.create(\n",
    "                model = azure_deployment,\n",
    "                messages =[\n",
    "                    {\"role\":\"system\", \"content\":system_prompt},\n",
    "                    {\"role\":\"user\", \"content\":user_content}\n",
    "        \n",
    "                ]\n",
    "            )\n",
    "    \n",
    "    fake_chat = response.choices[0].message.content\n",
    "    return fake_chat"
   ]
  },
  {
   "cell_type": "code",
   "execution_count": null,
   "id": "b4a58b6a-b309-4dd7-9cf0-93106f739da8",
   "metadata": {},
   "outputs": [],
   "source": [
    "def deidentifier(user_content):\n",
    "            \n",
    "    system_prompt = \"\"\"당신은 개인정보를 감춰주는 로봇입니다.\\n\n",
    "    주어진 대화에서 사람이름을 [PERSON1], [PERSON2] 등으로 등장 순서에 따라 대체하고, 동일한 이름이 반복될 경우 같은 대치어를 사용합니다.\\n\n",
    "    연락처, 이메일, 주소 , 계좌번호도 각각 [CONTACT1], [CONTACT2] 등, [EMAIL1],[EMAIL2] 등, [ADDRESS1],[ADDRESS2]등 , \n",
    "    [ACCOUNT1], [ACCOUNT2] 등 으로 대치하고 동일한 정보가 반복되는 경우에는 같은 대치어를 사용합니다.\\n\n",
    "    대치어를 작성할때 글머리 기호나, 나열식 방식을 쓰지말고 평문으로 이어서 쓰십시오 \\n\n",
    "    위 규칙은 대화 전체에 걸쳐 일관되게 적용합니다. \\n\n",
    "    당신이 참고할 대화내역 입니다. \\n: 입력:\"\"\"\n",
    "    response = client.chat.completions.create(\n",
    "                model = azure_deployment,\n",
    "                messages =[\n",
    "                    {\"role\":\"system\", \"content\":system_prompt},\n",
    "                    {\"role\":\"user\", \"content\":user_content}\n",
    "        \n",
    "                ]\n",
    "            )\n",
    "    \n",
    "    fake_chat = response.choices[0].message.content\n",
    "    return fake_chat"
   ]
  },
  {
   "cell_type": "code",
   "execution_count": 180,
   "id": "31fc7618-5837-47fe-969c-aef41ad6570d",
   "metadata": {},
   "outputs": [],
   "source": []
  },
  {
   "cell_type": "code",
   "execution_count": 182,
   "id": "84a3d24b-9910-4317-8820-805da4b8cf68",
   "metadata": {},
   "outputs": [],
   "source": [
    "shopping_keys = list(shopping.keys())"
   ]
  },
  {
   "cell_type": "code",
   "execution_count": null,
   "id": "e9236fd4-532c-4c3a-9fd5-d98fe6d65c71",
   "metadata": {},
   "outputs": [
    {
     "name": "stderr",
     "output_type": "stream",
     "text": [
      " 33%|███▎      | 1407/4225 [2:39:38<6:46:01,  8.65s/it] "
     ]
    }
   ],
   "source": [
    "from key in tqdm(list(conversations.keys())):\n",
    "    converse = data[key]\n",
    "    converse = '\\n'.join"
   ]
  }
 ],
 "metadata": {
  "kernelspec": {
   "display_name": "openAI",
   "language": "python",
   "name": "openai"
  },
  "language_info": {
   "codemirror_mode": {
    "name": "ipython",
    "version": 3
   },
   "file_extension": ".py",
   "mimetype": "text/x-python",
   "name": "python",
   "nbconvert_exporter": "python",
   "pygments_lexer": "ipython3",
   "version": "3.10.14"
  }
 },
 "nbformat": 4,
 "nbformat_minor": 5
}
