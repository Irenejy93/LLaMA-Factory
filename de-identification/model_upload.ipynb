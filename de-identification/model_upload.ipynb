{
 "cells": [
  {
   "cell_type": "code",
   "execution_count": 2,
   "id": "dd44e8d2-b03c-491a-8da0-99fb5d431680",
   "metadata": {},
   "outputs": [
    {
     "name": "stderr",
     "output_type": "stream",
     "text": [
      "/usr/local/lib/python3.10/dist-packages/IPython/core/magics/osm.py:417: UserWarning: using dhist requires you to install the `pickleshare` library.\n",
      "  self.shell.db['dhist'] = compress_dhist(dhist)[-100:]\n"
     ]
    },
    {
     "name": "stdout",
     "output_type": "stream",
     "text": [
      "/workspace/LLaMA-Factory\n"
     ]
    }
   ],
   "source": [
    "%cd /workspace/LLaMA-Factory\n",
    "import torch\n",
    "from transformers import AutoModelForCausalLM, AutoTokenizer"
   ]
  },
  {
   "cell_type": "code",
   "execution_count": 4,
   "id": "67fe017a-6dbc-40fb-845f-138968d0d9ad",
   "metadata": {},
   "outputs": [],
   "source": [
    "test_converse = '''고객: 안녕하세요, 제 이름은 김지수입니다. 얼마 전에 주문한 제품이 아직 도착하지 않았습니다. 제 주문번호는 SH12345이고, 저희 집 주소는 서울시 강남구 테헤란로 123-45입니다. 확인 부탁드립니다.\n",
    "\n",
    "상담원: 안녕하세요, 김지수 고객님. 저희 쇼핑몰을 이용해 주셔서 감사합니다. 고객님의 주문 상황을 확인하고 있습니다. 잠시만 기다려 주시겠어요?\n",
    "\n",
    "상담원: 확인 결과, 고객님의 주문은 택배사의 물류 지연으로 인해 배송이 지연되고 있습니다. 통상적으로 2~3일 내에는 배송될 예정입니다. 불편을 드려 죄송합니다.\n",
    "\n",
    "고객: 지연 사유를 알려주셔서 감사합니다. 배송 예정일을 알 수 있을까요?\n",
    "\n",
    "상담원: 네, 현재로서는 목요일까지는 도착할 것으로 예상됩니다. 도착하면 고객님께 연락드리겠습니다. 연락 받으실 전화번호가 010-1234-5678이 맞으신가요?\n",
    "\n",
    "고객: 네, 맞습니다. 그 전화번호로 알려주세요.\n",
    "\n",
    "상담원: 확인했습니다. 만약 배송 관련 추가 문의사항이 있으시면 언제든지 연락주세요. 혹시 환불이 필요하시다면 연결된 계좌로 환불 처리해 드릴 수 있습니다. 계좌번호는 하나은행 123-456-789012로 확인됩니다.\n",
    "\n",
    "고객: 네, 감사합니다. 그럼 기다리겠습니다.\n",
    "\n",
    "상담원: 감사합니다, 김지수 고객님. 불편을 드려 다시 한번 사과드립니다. 좋은 하루 보내세요!'''"
   ]
  },
  {
   "cell_type": "code",
   "execution_count": 11,
   "id": "f8b4c3d0-b4bd-48a7-b2d7-1d88a4e910e3",
   "metadata": {},
   "outputs": [
    {
     "data": {
      "application/vnd.jupyter.widget-view+json": {
       "model_id": "524e2630b42645f0b7083d7bba9a7f67",
       "version_major": 2,
       "version_minor": 0
      },
      "text/plain": [
       "Loading checkpoint shards:   0%|          | 0/4 [00:00<?, ?it/s]"
      ]
     },
     "metadata": {},
     "output_type": "display_data"
    }
   ],
   "source": [
    "org_tokenizer = AutoTokenizer.from_pretrained('allganize/Llama-3-Alpha-Ko-8B-Instruct')\n",
    "org_model = AutoModelForCausalLM.from_pretrained('allganize/Llama-3-Alpha-Ko-8B-Instruct')\n",
    "org_model = torch.nn.DataParallel(org_model).cuda()"
   ]
  },
  {
   "cell_type": "code",
   "execution_count": 12,
   "id": "a2fdfd79-9330-41aa-92b3-98c6fcae70b0",
   "metadata": {},
   "outputs": [],
   "source": [
    "device = \"cuda:0\"\n",
    "\n",
    "messages = [\n",
    "    {\"role\": \"system\", \"content\": \"당신은 개인정보를 감춰주는 로봇입니다.\\n\\n## 지시 사항 ##\\n1.주어진 대화에서 사람이름을 [PERSON1], [PERSON2] 등으로 등장 순서에 따라 대체하고, 동일한 이름이 반복될 경우 같은 대치어를 사용합니다.\\n2.연락처, 이메일, 주소 , 계좌번호도 각각 [CONTACT1], [CONTACT2] 등, [EMAIL1],[EMAIL2] 등, [ADDRESS1],[ADDRESS2]등 , [ACCOUNT1], [ACCOUNT2] 등 으로 대치하고 동일한 정보가 반복되는 경우에는 같은 대치어를 사용합니다.\\n3.대치어를 작성할때 글머리 기호나, 나열식 방식을 쓰지말고 평문으로 이어서 쓰십시오 \\n4.위 규칙은 대화 전체에 걸쳐 일관되게 적용합니다. \\n당신이 개인정보를 감출 대화내역입니다.\"},\n",
    "    {\"role\": \"user\", \"content\": f\"입력: {test_converse}\"}\n",
    "]\n",
    "\n",
    "org_encodeds = org_tokenizer.apply_chat_template(messages, add_generation_prompt=True, return_tensors=\"pt\")\n",
    "org_model_inputs = org_encodeds.to(device)"
   ]
  },
  {
   "cell_type": "code",
   "execution_count": 13,
   "id": "1d019092-eef5-48df-b3a6-3b75ec302db6",
   "metadata": {},
   "outputs": [
    {
     "name": "stderr",
     "output_type": "stream",
     "text": [
      "The attention mask and the pad token id were not set. As a consequence, you may observe unexpected behavior. Please pass your input's `attention_mask` to obtain reliable results.\n",
      "Setting `pad_token_id` to `eos_token_id`:None for open-end generation.\n"
     ]
    },
    {
     "name": "stdout",
     "output_type": "stream",
     "text": [
      "<|begin_of_text|><|begin_of_text|><|start_header_id|>system<|end_header_id|>\n",
      "\n",
      "당신은 개인정보를 감춰주는 로봇입니다.\n",
      "\n",
      "## 지시 사항 ##\n",
      "1.주어진 대화에서 사람이름을 [PERSON1], [PERSON2] 등으로 등장 순서에 따라 대체하고, 동일한 이름이 반복될 경우 같은 대치어를 사용합니다.\n",
      "2.연락처, 이메일, 주소, 계좌번호도 각각 [CONTACT1], [CONTACT2] 등, [EMAIL1],[EMAIL2] 등, [ADDRESS1],[ADDRESS2]등, [ACCOUNT1], [ACCOUNT2] 등 으로 대치하고 동일한 정보가 반복되는 경우에는 같은 대치어를 사용합니다.\n",
      "3.대치어를 작성할때 글머리 기호나, 나열식 방식을 쓰지말고 평문으로 이어서 쓰십시오 \n",
      "4.위 규칙은 대화 전체에 걸쳐 일관되게 적용합니다. \n",
      "당신이 개인정보를 감출 대화내역입니다.<|eot_id|><|start_header_id|>user<|end_header_id|>\n",
      "\n",
      "입력: 고객: 안녕하세요, 제 이름은 김지수입니다. 얼마 전에 주문한 제품이 아직 도착하지 않았습니다. 제 주문번호는 SH12345이고, 저희 집 주소는 서울시 강남구 테헤란로 123-45입니다. 확인 부탁드립니다.\n",
      "\n",
      "상담원: 안녕하세요, 김지수 고객님. 저희 쇼핑몰을 이용해 주셔서 감사합니다. 고객님의 주문 상황을 확인하고 있습니다. 잠시만 기다려 주시겠어요?\n",
      "\n",
      "상담원: 확인 결과, 고객님의 주문은 택배사의 물류 지연으로 인해 배송이 지연되고 있습니다. 통상적으로 2~3일 내에는 배송될 예정입니다. 불편을 드려 죄송합니다.\n",
      "\n",
      "고객: 지연 사유를 알려주셔서 감사합니다. 배송 예정일을 알 수 있을까요?\n",
      "\n",
      "상담원: 네, 현재로서는 목요일까지는 도착할 것으로 예상됩니다. 도착하면 고객님께 연락드리겠습니다. 연락 받으실 전화번호가 010-1234-5678이 맞으신가요?\n",
      "\n",
      "고객: 네, 맞습니다. 그 전화번호로 알려주세요.\n",
      "\n",
      "상담원: 확인했습니다. 만약 배송 관련 추가 문의사항이 있으시면 언제든지 연락주세요. 혹시 환불이 필요하시다면 연결된 계좌로 환불 처리해 드릴 수 있습니다. 계좌번호는 하나은행 123-456-789012로 확인됩니다.\n",
      "\n",
      "고객: 네, 감사합니다. 그럼 기다리겠습니다.\n",
      "\n",
      "상담원: 감사합니다, 김지수 고객님. 불편을 드려 다시 한번 사과드립니다. 좋은 하루 보내세요!<|eot_id|><|start_header_id|>assistant<|end_header_id|>\n",
      "\n",
      "입력: 고객: 안녕하세요, 제 이름은 [PERSON1]입니다. 얼마 전에 주문한 제품이 아직 도착하지 않았습니다. 제 주문번호는 [ORDER1]이고, 저희 집 주소는 [ADDRESS1]입니다. 확인 부탁드립니다.\n",
      "\n",
      "[PERSON1]: 확인 부탁드립니다.\n",
      "\n",
      "[PERSON1]: 확인 부탁드립니다.\n",
      "\n",
      "상담원: 안녕하세요, [PERSON1] 고객님. 저희 쇼핑몰을 이용해 주셔서 감사합니다. 고객님의 주문 상황을 확인하고 있습니다. 잠시만 기다려 주시겠어요?\n",
      "\n",
      "상담원: 확인 결과, 고객님의 주문은 택배사의 물류 지연으로 인해 배송이 지연되고 있습니다. 통상적으로 2~3일 내에는 배송될 예정입니다. 불편을 드려 죄송합니다.\n",
      "\n",
      "[PERSON1]: 지연 사유를 알려주셔서 감사합니다. 배송 예정일을 알 수 있을까요?\n",
      "\n",
      "상담원: 네, 현재로서는 [DATE1]까지는 도착할 것으로 예상됩니다. 도착하면 고객님께 연락드리겠습니다. 연락 받으실 전화번호가 [CONTACT1]이 맞으신가요?\n",
      "\n",
      "[PERSON1]: 네, 맞습니다. 그 전화번호로 알려주세요.\n",
      "\n",
      "상담원: 확인했습니다. 만약 배송 관련 추가 문의사항이 있으시면 언제든지 연락주세요. 혹시 환불이 필요하시다면 연결된 계좌로 환불 처리해 드릴 수 있습니다. 계좌번호는 [ACCOUNT1]로 확인됩니다.\n",
      "\n",
      "[PERSON1]: 네, 감사합니다. 그럼 기다리겠습니다.\n",
      "\n",
      "상담원: 감사합니다, [PERSON1] 고객님. 불편을 드려 다시 한번 사과드립니다. 좋은 하루 보내세요!<|eot_id|>\n"
     ]
    }
   ],
   "source": [
    "input_text = org_tokenizer.decode(org_model_inputs[0])\n",
    "inputs = org_tokenizer(input_text, return_tensors=\"pt\")\n",
    "eos_token_id = org_tokenizer.convert_tokens_to_ids(\"<|eot_id|>\")\n",
    "\n",
    "with torch.no_grad():\n",
    "    outputs = org_model.module.generate(input_ids=inputs[\"input_ids\"].to(\"cuda\"), max_new_tokens=512, eos_token_id=eos_token_id)\n",
    "    print(org_tokenizer.decode(outputs[0]))"
   ]
  },
  {
   "cell_type": "code",
   "execution_count": null,
   "id": "7a50a74a-f8e4-456e-a67e-3d17553040ce",
   "metadata": {},
   "outputs": [],
   "source": []
  },
  {
   "cell_type": "markdown",
   "id": "d71e3665-3aa8-4d24-88f2-330893f99844",
   "metadata": {},
   "source": [
    "---------------"
   ]
  },
  {
   "cell_type": "code",
   "execution_count": 5,
   "id": "5145825b-632f-4576-b953-8d472d6b1c39",
   "metadata": {},
   "outputs": [
    {
     "data": {
      "application/vnd.jupyter.widget-view+json": {
       "model_id": "c628da6ef32e41599af01defd5a1b20d",
       "version_major": 2,
       "version_minor": 0
      },
      "text/plain": [
       "Loading checkpoint shards:   0%|          | 0/4 [00:00<?, ?it/s]"
      ]
     },
     "metadata": {},
     "output_type": "display_data"
    }
   ],
   "source": [
    "tokenizer = AutoTokenizer.from_pretrained('./deidentification/model')\n",
    "model = AutoModelForCausalLM.from_pretrained('./deidentification/model')\n",
    "model = torch.nn.DataParallel(model).cuda()"
   ]
  },
  {
   "cell_type": "code",
   "execution_count": 6,
   "id": "03063961-a883-422b-8ca4-7a824e22ce3a",
   "metadata": {},
   "outputs": [],
   "source": [
    "device = \"cuda:0\"\n",
    "\n",
    "messages = [\n",
    "    {\"role\": \"system\", \"content\": \"당신은 개인정보를 감춰주는 로봇입니다.\\n\\n## 지시 사항 ##\\n1.주어진 대화에서 사람이름을 [PERSON1], [PERSON2] 등으로 등장 순서에 따라 대체하고, 동일한 이름이 반복될 경우 같은 대치어를 사용합니다.\\n2.연락처, 이메일, 주소 , 계좌번호도 각각 [CONTACT1], [CONTACT2] 등, [EMAIL1],[EMAIL2] 등, [ADDRESS1],[ADDRESS2]등 , [ACCOUNT1], [ACCOUNT2] 등 으로 대치하고 동일한 정보가 반복되는 경우에는 같은 대치어를 사용합니다.\\n3.대치어를 작성할때 글머리 기호나, 나열식 방식을 쓰지말고 평문으로 이어서 쓰십시오 \\n4.위 규칙은 대화 전체에 걸쳐 일관되게 적용합니다. \\n당신이 개인정보를 감출 대화내역입니다.\"},\n",
    "    {\"role\": \"user\", \"content\": f\"입력: {test_converse}\"}\n",
    "]\n",
    "\n",
    "encodeds = tokenizer.apply_chat_template(messages, add_generation_prompt=True, return_tensors=\"pt\")\n",
    "model_inputs = encodeds.to(device)"
   ]
  },
  {
   "cell_type": "code",
   "execution_count": 7,
   "id": "0c212134-e9ff-4e9c-8c88-8b7a391e86b0",
   "metadata": {},
   "outputs": [
    {
     "data": {
      "text/plain": [
       "tensor([[128000, 128006,   9125, 128007,    271,  65895,  83628,  34804, 111097,\n",
       "         105922,  18918, 103185,  54596,    108, 119087,  72115, 103850,    229,\n",
       "          80052,    382,    567,  67890,  30426, 126840,  48826,     16,     13,\n",
       "          55430, 125441,  62060,  57390,  57575, 117559,  64254,  18359,    510,\n",
       "          94283,     16,   1145,    510,  94283,     17,     60,  78102,  43139,\n",
       "         126912, 106248,  27796,  19954, 106725,  62060,  50643, 101360,     11,\n",
       "         121731,  24486,  87134,  13094,  64857,  98934, 113191,  50152, 105718,\n",
       "          62060,  60798,  32179,  18918,  41820,  61938,    627,     17,     13,\n",
       "         101347, 105316, 102657,     11,  23955,  85767,  33177,     11,  56773,\n",
       "          44690,   1174,  95303, 113002,  73148,  49085, 127141,    510,  74471,\n",
       "             16,   1145,    510,  74471,     17,     60,  78102,     11,    510,\n",
       "          37004,     16,  15304,  37004,     17,     60,  78102,     11,    510,\n",
       "          62105,     16,  15304,  62105,     17,     60, 102278,   1174,    510,\n",
       "          74483,     16,   1145,    510,  74483,     17,     60,  78102,  38164,\n",
       "            120,  17835,  62060,  60798, 101360, 121731,  24486,  61139,  20565,\n",
       "          64857,  98934, 107205,  50152, 102772, 105718,  62060,  60798,  32179,\n",
       "          18918,  41820,  61938,    627,     18,     13,  67945,  60798,  32179,\n",
       "          18918, 114839,  48936, 106745, 107285, 103843,  29102,  55216,  48424,\n",
       "          61415,     11,  74618,  55055,  77437,  75908, 118156, 108533,  22035,\n",
       "         104508,  35495, 101971,  52688,  43139,  23955, 108503, 108533, 119978,\n",
       "            720,     19,     13,  82001, 111850, 117035,  34804,  62060,  57390,\n",
       "         110078,  19954, 105701, 110218,  84656, 101106,  65219,  58901, 115839,\n",
       "          61938,     13,    720,  65895,  83628,  13094, 111097, 105922,  18918,\n",
       "         103185,  71023,  62060,  57390,  96318, 101577,  80052,     13, 128009,\n",
       "         128006,    882, 128007,    271,  44966,  29854,     25, 116534,     25,\n",
       "          96270, 124409,     11,  63171,  87134,  34804, 102155,  22035,  24140,\n",
       "          80052,     13, 118176, 121588, 127264,  24486, 112785,  13094, 117686,\n",
       "         101703, 111283,  88525, 116154,  39331,     13,  63171, 127264,  73148,\n",
       "          16969,   6570,   4513,   1774, 109816,     11, 102678, 105204, 104441,\n",
       "          56773,  44690,  16969, 106010,  30426, 124091,  89359, 107573, 125519,\n",
       "         103272,  17835,    220,   4513,     12,   1774,  80052,     13,  74959,\n",
       "         121121, 109616,    382, 126862,  55421,     25,  96270, 124409,     11,\n",
       "         102155,  22035,  24140, 116534, 102424,     13, 102678, 105204, 121346,\n",
       "         113629, 116194,  18359, 106359,  34983,  56773, 110311,  27796, 117078,\n",
       "          61938,     13, 116534, 119673, 127264, 116492,  18359,  74959, 101360,\n",
       "         103924,     13, 109562,  30426,  73653, 123118, 101103,  56773,  30426,\n",
       "         103373, 105807,   1980, 126862,  55421,     25,  74959,  99901,     11,\n",
       "         116534, 119673, 127264,  34804,  10997,  30489, 103588, 115296, 103738,\n",
       "          99029,  67890, 101347,  43139,  59777,  34983, 120350,  13094,  67890,\n",
       "         101347, 116039, 103924,     13, 102681,  57002, 104182,    220,     17,\n",
       "             93,     18,  33177,  67236, 102772, 120350, 113191, 126088,  80052,\n",
       "             13, 102786, 104790,  18359, 103745, 101103, 125746,    226, 102937,\n",
       "          61938,    382,  35495, 108583,     25,  67890, 101347,  33229, 101314,\n",
       "          18918, 116023,  55430, 110311,  27796, 117078,  61938,     13, 120350,\n",
       "         126088,  33177,  18359, 102066,  29833, 109077, 117677,   1980, 126862,\n",
       "          55421,     25, 103315,     11, 111530,  17835, 118135, 103504, 114020,\n",
       "         102704,  16969, 101703, 111283,  48936, 111590,  96717,  57002, 114409,\n",
       "             13, 101703, 111283, 108302, 116534, 102424, 104049, 127808, 124365,\n",
       "         115284,     13, 127808,  84696,  34609, 101272, 126100,  73148,  20565,\n",
       "            220,   7755,     12,   4513,     19,     12,  19282,     23,  13094,\n",
       "         107625,  34609,  83628, 122665,   1980,  35495, 108583,     25, 103315,\n",
       "             11, 107625,  39331,     13,  55925, 126100,  73148,  17835, 116023,\n",
       "          92769,    382, 126862,  55421,     25,  74959, 116304,     13,  63207,\n",
       "         103168, 120350, 106434,  69508, 108515, 115790,  13094,  36439,  34609,\n",
       "          30426,  33390, 122545,  82776,  22035, 127808,  92769,     13, 119083,\n",
       "          30426, 104613, 106138,  13094, 108289, 111132, 115300, 121365,  53400,\n",
       "          95303, 113002,  17835, 104613, 106138,  82158,  34983, 103745, 109883,\n",
       "          29833, 103924,     13,  95303, 113002,  73148,  16969, 105454,  34804,\n",
       "         101066,    220,   4513,     12,  10961,     12,  16474,  11531,  17835,\n",
       "          74959, 114409,    382,  35495, 108583,     25, 103315,     11, 117078,\n",
       "          61938,     13,  55925, 104221, 123118,  29102, 115284,    382, 126862,\n",
       "          55421,     25, 117078,  61938,     11, 102155,  22035,  24140, 116534,\n",
       "         102424,     13, 102786, 104790,  18359, 103745, 101103, 106327, 126403,\n",
       "          33229,  54780, 109616,     13, 111937, 123106, 121599,  51402,      0,\n",
       "         128009, 128006,  78191, 128007,    271]], device='cuda:0')"
      ]
     },
     "execution_count": 7,
     "metadata": {},
     "output_type": "execute_result"
    }
   ],
   "source": [
    "model_inputs"
   ]
  },
  {
   "cell_type": "code",
   "execution_count": 8,
   "id": "e5f184b4-2f1c-4f21-a9f2-2c747fee671c",
   "metadata": {},
   "outputs": [],
   "source": [
    "input_text = tokenizer.decode(model_inputs[0])"
   ]
  },
  {
   "cell_type": "code",
   "execution_count": 9,
   "id": "147fdb80-870f-4b25-9d2f-5bc5a996096c",
   "metadata": {},
   "outputs": [
    {
     "name": "stderr",
     "output_type": "stream",
     "text": [
      "The attention mask and the pad token id were not set. As a consequence, you may observe unexpected behavior. Please pass your input's `attention_mask` to obtain reliable results.\n",
      "Setting `pad_token_id` to `eos_token_id`:None for open-end generation.\n",
      "The attention mask is not set and cannot be inferred from input because pad token is same as eos token. As a consequence, you may observe unexpected behavior. Please pass your input's `attention_mask` to obtain reliable results.\n"
     ]
    },
    {
     "name": "stdout",
     "output_type": "stream",
     "text": [
      "<|begin_of_text|><|begin_of_text|><|start_header_id|>system<|end_header_id|>\n",
      "\n",
      "당신은 개인정보를 감춰주는 로봇입니다.\n",
      "\n",
      "## 지시 사항 ##\n",
      "1.주어진 대화에서 사람이름을 [PERSON1], [PERSON2] 등으로 등장 순서에 따라 대체하고, 동일한 이름이 반복될 경우 같은 대치어를 사용합니다.\n",
      "2.연락처, 이메일, 주소, 계좌번호도 각각 [CONTACT1], [CONTACT2] 등, [EMAIL1],[EMAIL2] 등, [ADDRESS1],[ADDRESS2]등, [ACCOUNT1], [ACCOUNT2] 등 으로 대치하고 동일한 정보가 반복되는 경우에는 같은 대치어를 사용합니다.\n",
      "3.대치어를 작성할때 글머리 기호나, 나열식 방식을 쓰지말고 평문으로 이어서 쓰십시오 \n",
      "4.위 규칙은 대화 전체에 걸쳐 일관되게 적용합니다. \n",
      "당신이 개인정보를 감출 대화내역입니다.<|eot_id|><|start_header_id|>user<|end_header_id|>\n",
      "\n",
      "입력: 고객: 안녕하세요, 제 이름은 김지수입니다. 얼마 전에 주문한 제품이 아직 도착하지 않았습니다. 제 주문번호는 SH12345이고, 저희 집 주소는 서울시 강남구 테헤란로 123-45입니다. 확인 부탁드립니다.\n",
      "\n",
      "상담원: 안녕하세요, 김지수 고객님. 저희 쇼핑몰을 이용해 주셔서 감사합니다. 고객님의 주문 상황을 확인하고 있습니다. 잠시만 기다려 주시겠어요?\n",
      "\n",
      "상담원: 확인 결과, 고객님의 주문은 택배사의 물류 지연으로 인해 배송이 지연되고 있습니다. 통상적으로 2~3일 내에는 배송될 예정입니다. 불편을 드려 죄송합니다.\n",
      "\n",
      "고객: 지연 사유를 알려주셔서 감사합니다. 배송 예정일을 알 수 있을까요?\n",
      "\n",
      "상담원: 네, 현재로서는 목요일까지는 도착할 것으로 예상됩니다. 도착하면 고객님께 연락드리겠습니다. 연락 받으실 전화번호가 010-1234-5678이 맞으신가요?\n",
      "\n",
      "고객: 네, 맞습니다. 그 전화번호로 알려주세요.\n",
      "\n",
      "상담원: 확인했습니다. 만약 배송 관련 추가 문의사항이 있으시면 언제든지 연락주세요. 혹시 환불이 필요하시다면 연결된 계좌로 환불 처리해 드릴 수 있습니다. 계좌번호는 하나은행 123-456-789012로 확인됩니다.\n",
      "\n",
      "고객: 네, 감사합니다. 그럼 기다리겠습니다.\n",
      "\n",
      "상담원: 감사합니다, 김지수 고객님. 불편을 드려 다시 한번 사과드립니다. 좋은 하루 보내세요!<|eot_id|><|start_header_id|>assistant<|end_header_id|>\n",
      "\n",
      "입력: 고객: 안녕하세요, 제 이름은 [PERSON1]입니다. 얼마 전에 주문한 제품이 아직 도착하지 않았습니다. 제 주문번호는 SH12345이고, 저희 집 주소는 [ADDRESS1]입니다. 확인 부탁드립니다.\n",
      "\n",
      "상담원: 안녕하세요, [PERSON1] 고객님. 저희 쇼핑몰을 이용해 주셔서 감사합니다. 고객님의 주문 상황을 확인하고 있습니다. 잠시만 기다려 주시겠어요?\n",
      "\n",
      "상담원: 확인 결과, 고객님의 주문은 택배사의 물류 지연으로 인해 배송이 지연되고 있습니다. 통상적으로 2~3일 내에는 배송될 예정입니다. 불편을 드려 죄송합니다.\n",
      "\n",
      "고객: 지연 사유를 알려주셔서 감사합니다. 배송 예정일을 알 수 있을까요?\n",
      "\n",
      "상담원: 네, 현재로서는 목요일까지는 도착할 것으로 예상됩니다. 도착하면 고객님께 연락드리겠습니다. 연락 받으실 전화번호가 [CONTACT1]이 맞으신가요?\n",
      "\n",
      "고객: 네, 맞습니다. 그 전화번호로 알려주세요.\n",
      "\n",
      "상담원: 확인했습니다. 만약 배송 관련 추가 문의사항이 있으시면 언제든지 연락주세요. 혹시 환불이 필요하시다면 연결된 계좌로 환불 처리해 드릴 수 있습니다. 계좌번호는 [ACCOUNT1]로 확인됩니다.\n",
      "\n",
      "고객: 네, 감사합니다. 그럼 기다리겠습니다.\n",
      "\n",
      "상담원: 감사합니다, [PERSON1] 고객님. 불편을 드려 다시 한번 사과드립니다. 좋은 하루 보내세요!<|eot_id|>\n"
     ]
    }
   ],
   "source": [
    "\n",
    "inputs = tokenizer(input_text, return_tensors=\"pt\")\n",
    "eos_token_id = tokenizer.convert_tokens_to_ids(\"<|eot_id|>\")\n",
    "\n",
    "with torch.no_grad():\n",
    "    outputs = model.module.generate(input_ids=inputs[\"input_ids\"].to(\"cuda\"), max_new_tokens=512, eos_token_id=eos_token_id)\n",
    "    print(tokenizer.decode(outputs[0]))"
   ]
  },
  {
   "cell_type": "code",
   "execution_count": 19,
   "id": "caad73ad-6a58-45bb-8ac9-394a3abce5e6",
   "metadata": {},
   "outputs": [
    {
     "data": {
      "application/vnd.jupyter.widget-view+json": {
       "model_id": "0fdba70d39ec46e4b69ddeac53124e29",
       "version_major": 2,
       "version_minor": 0
      },
      "text/plain": [
       "Upload 5 LFS files:   0%|          | 0/5 [00:00<?, ?it/s]"
      ]
     },
     "metadata": {},
     "output_type": "display_data"
    },
    {
     "data": {
      "application/vnd.jupyter.widget-view+json": {
       "model_id": "dbd2bdc80a4242f99e348262742de2e9",
       "version_major": 2,
       "version_minor": 0
      },
      "text/plain": [
       "model-00002-of-00004.safetensors:   0%|          | 0.00/5.00G [00:00<?, ?B/s]"
      ]
     },
     "metadata": {},
     "output_type": "display_data"
    },
    {
     "data": {
      "application/vnd.jupyter.widget-view+json": {
       "model_id": "8830040804184f58bf85570a08d0bd73",
       "version_major": 2,
       "version_minor": 0
      },
      "text/plain": [
       "model-00001-of-00004.safetensors:   0%|          | 0.00/4.98G [00:00<?, ?B/s]"
      ]
     },
     "metadata": {},
     "output_type": "display_data"
    },
    {
     "data": {
      "application/vnd.jupyter.widget-view+json": {
       "model_id": "0928a1e103cd425da9f240797ef136ba",
       "version_major": 2,
       "version_minor": 0
      },
      "text/plain": [
       "model-00003-of-00004.safetensors:   0%|          | 0.00/4.92G [00:00<?, ?B/s]"
      ]
     },
     "metadata": {},
     "output_type": "display_data"
    },
    {
     "data": {
      "application/vnd.jupyter.widget-view+json": {
       "model_id": "5ebbe4cbd9f94df79121a6c26c7eaa08",
       "version_major": 2,
       "version_minor": 0
      },
      "text/plain": [
       "model-00004-of-00004.safetensors:   0%|          | 0.00/1.17G [00:00<?, ?B/s]"
      ]
     },
     "metadata": {},
     "output_type": "display_data"
    },
    {
     "data": {
      "application/vnd.jupyter.widget-view+json": {
       "model_id": "9b115b07df35488596f4b8f54fb81f68",
       "version_major": 2,
       "version_minor": 0
      },
      "text/plain": [
       "tokenizer.json:   0%|          | 0.00/17.2M [00:00<?, ?B/s]"
      ]
     },
     "metadata": {},
     "output_type": "display_data"
    },
    {
     "data": {
      "text/plain": [
       "CommitInfo(commit_url='https://huggingface.co/irene93/Llama-3-deidentifier/commit/a55851aeaf03e187dc3527e776afd3498e6bf3a8', commit_message='Upload folder using huggingface_hub', commit_description='', oid='a55851aeaf03e187dc3527e776afd3498e6bf3a8', pr_url=None, repo_url=RepoUrl('https://huggingface.co/irene93/Llama-3-deidentifier', endpoint='https://huggingface.co', repo_type='model', repo_id='irene93/Llama-3-deidentifier'), pr_revision=None, pr_num=None)"
      ]
     },
     "execution_count": 19,
     "metadata": {},
     "output_type": "execute_result"
    }
   ],
   "source": [
    "from huggingface_hub import HfApi\n",
    "api = HfApi()\n",
    "username = \"irene93\"\n",
    "\n",
    "MODEL_NAME = 'Llama-3-deidentifier'\n",
    "api.create_repo(\n",
    "    token=token,\n",
    "    repo_id=f\"{username}/{MODEL_NAME}\",\n",
    "    repo_type=\"model\"\n",
    ")\n",
    "\n",
    "api.upload_folder(\n",
    "    token=token ,\n",
    "    repo_id=f\"{username}/{MODEL_NAME}\",\n",
    "    folder_path=\"./deidentification/model\",\n",
    ")"
   ]
  },
  {
   "cell_type": "code",
   "execution_count": null,
   "id": "3c18986a-e440-4ca3-85f0-a2e99b5706f6",
   "metadata": {},
   "outputs": [],
   "source": []
  }
 ],
 "metadata": {
  "kernelspec": {
   "display_name": "Python 3 (ipykernel)",
   "language": "python",
   "name": "python3"
  },
  "language_info": {
   "codemirror_mode": {
    "name": "ipython",
    "version": 3
   },
   "file_extension": ".py",
   "mimetype": "text/x-python",
   "name": "python",
   "nbconvert_exporter": "python",
   "pygments_lexer": "ipython3",
   "version": "3.10.12"
  }
 },
 "nbformat": 4,
 "nbformat_minor": 5
}
