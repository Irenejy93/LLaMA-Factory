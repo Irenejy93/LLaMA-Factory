{
 "cells": [
  {
   "cell_type": "code",
   "execution_count": 9,
   "id": "ca755c31-ba40-4adf-905d-c504a9658720",
   "metadata": {},
   "outputs": [
    {
     "name": "stdout",
     "output_type": "stream",
     "text": [
      "An unexpected error occurred: the JSON object must be str, bytes or bytearray, not BufferedReader\n"
     ]
    }
   ],
   "source": [
    "import json\n",
    "\n",
    "\n",
    "# Path to your JSON file\n",
    "file_path = '민원(콜센터) 질의응답_K쇼핑_업무처리_Training.json'\n",
    "\n",
    "try:\n",
    "    # Open the file and load the JSON\n",
    "    with open(file_path, 'rb') as file:\n",
    "        data = json.loads(file)\n",
    "    print(data)\n",
    "except FileNotFoundError:\n",
    "    print(\"The file was not found. Check the file path.\")\n",
    "except json.JSONDecodeError:\n",
    "    print(\"There was an error decoding the JSON.\")\n",
    "except Exception as e:\n",
    "    print(\"An unexpected error occurred:\", str(e))"
   ]
  },
  {
   "cell_type": "code",
   "execution_count": 10,
   "id": "1ec72d38-e5d3-4dce-9a44-e026e06e8bf9",
   "metadata": {},
   "outputs": [
    {
     "name": "stderr",
     "output_type": "stream",
     "text": [
      "IOPub data rate exceeded.\n",
      "The Jupyter server will temporarily stop sending output\n",
      "to the client in order to avoid crashing it.\n",
      "To change this limit, set the config variable\n",
      "`--ServerApp.iopub_data_rate_limit`.\n",
      "\n",
      "Current values:\n",
      "ServerApp.iopub_data_rate_limit=1000000.0 (bytes/sec)\n",
      "ServerApp.rate_limit_window=3.0 (secs)\n",
      "\n"
     ]
    }
   ],
   "source": [
    "with open(file_path, 'r', encoding='euc_kr', errors='replace') as file:\n",
    "    data = json.load(file)\n",
    "print(data)"
   ]
  },
  {
   "cell_type": "code",
   "execution_count": 14,
   "id": "a6cc9784-4f62-4d70-9255-d8e423daa1a2",
   "metadata": {},
   "outputs": [
    {
     "data": {
      "text/plain": [
       "{'도메인': 'K쇼핑',\n",
       " '카테고리': '업무처리',\n",
       " '대화셋일련번호': 'SC3027',\n",
       " '화자': '상담사',\n",
       " '문장번호': '3',\n",
       " '고객의도': '',\n",
       " '상담사의도': '고객정보등록동의',\n",
       " 'QA': 'Q',\n",
       " '고객질문(요청)': '',\n",
       " '상담사질문(요청)': ' 아 그러십니까? 고객님 ㅇㅇㅇㅇ 처음 이용이시면 고객 정보 등록 후 주문 도와드리겠습니다. 고객님의 회원 서비스 제공을 위해 성함, 생년월일, 성별, 주소, 연락처를 등록하고 있습니다. 이에 동의하십니까? ',\n",
       " '고객답변': '',\n",
       " '상담사답변': '',\n",
       " '개체명 ': '고객님, ㅇㅇㅇㅇ, 처음, 이용, 고객 정보 등록, 주문, 회원 서비스 제공, 성함, 생년월일, 성별, 주소, 연락처, 등록, 동의',\n",
       " '용어사전': '처음/신규, 서비스/혜택, 성함/성명, 생년월일/주민번호앞자리',\n",
       " '지식베이스': 'ㅇㅇㅇㅇ/쇼핑몰명'}"
      ]
     },
     "execution_count": 14,
     "metadata": {},
     "output_type": "execute_result"
    }
   ],
   "source": [
    "data[2]"
   ]
  },
  {
   "cell_type": "code",
   "execution_count": null,
   "id": "950f9c83-edb4-4a6c-bf96-587f009e5542",
   "metadata": {},
   "outputs": [],
   "source": []
  }
 ],
 "metadata": {
  "kernelspec": {
   "display_name": "openAI",
   "language": "python",
   "name": "openai"
  },
  "language_info": {
   "codemirror_mode": {
    "name": "ipython",
    "version": 3
   },
   "file_extension": ".py",
   "mimetype": "text/x-python",
   "name": "python",
   "nbconvert_exporter": "python",
   "pygments_lexer": "ipython3",
   "version": "3.10.14"
  }
 },
 "nbformat": 4,
 "nbformat_minor": 5
}
