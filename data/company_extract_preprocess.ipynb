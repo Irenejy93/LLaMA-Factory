{
 "cells": [
  {
   "cell_type": "code",
   "execution_count": 2,
   "id": "2b265d20-84e6-46a7-913c-f969ea0998f6",
   "metadata": {},
   "outputs": [],
   "source": [
    "import pickle\n",
    "with open(file='gpt_data.pkl', mode='rb') as f:\n",
    "    gpt_data=pickle.load(f)"
   ]
  },
  {
   "cell_type": "code",
   "execution_count": 13,
   "id": "e7710ee6-bd36-4cfb-8f70-af629189eace",
   "metadata": {},
   "outputs": [],
   "source": [
    "news_less2000 = [news for news in gpt_data if len(news[0]) < 2000]"
   ]
  },
  {
   "cell_type": "code",
   "execution_count": 14,
   "id": "de23d872-92bf-487a-9f7f-d776fdce33f8",
   "metadata": {},
   "outputs": [],
   "source": [
    "instruction_lists = []\n",
    "output=[]\n",
    "for news in news_less2000:\n",
    "    instruction_lists.append(news[0])\n",
    "    output.append(str(news[1]))"
   ]
  },
  {
   "cell_type": "code",
   "execution_count": 21,
   "id": "a43d347f-8584-4608-9ad5-b236dca96c21",
   "metadata": {},
   "outputs": [],
   "source": [
    "import pandas as pd\n",
    "import json\n",
    "df = pd.DataFrame()\n",
    "df['instruction'] = instruction_lists\n",
    "df['input'] = ''\n",
    "df['output'] = output"
   ]
  },
  {
   "cell_type": "code",
   "execution_count": 7,
   "id": "2784d3fc-b97e-42cc-9a6f-e53a9a460bdb",
   "metadata": {},
   "outputs": [],
   "source": [
    "import re\n",
    "import ast"
   ]
  },
  {
   "cell_type": "code",
   "execution_count": 22,
   "id": "edf5c126-fe19-4913-aa84-0fbc1e024bb1",
   "metadata": {},
   "outputs": [],
   "source": [
    "# DataFrame에서 'instruction'과 'output' 열을 딕셔너리 리스트로 변환\n",
    "data_to_save = df[['instruction', 'input', 'output']].to_dict(orient='records')\n",
    "\n",
    "# JSON 파일로 저장\n",
    "with open('company_extract.json', 'w', encoding='utf-8') as f:\n",
    "    json.dump(data_to_save, f, ensure_ascii=False, indent=4)"
   ]
  },
  {
   "cell_type": "code",
   "execution_count": 11,
   "id": "2996fb01-5b5a-4140-aa4c-cbe947877e3c",
   "metadata": {},
   "outputs": [],
   "source": [
    "import json\n",
    "with open('company_extract.json', 'r', encoding='utf-8') as f:\n",
    "    ss = json.load(f)"
   ]
  },
  {
   "cell_type": "code",
   "execution_count": 13,
   "id": "eae4c642-023b-4286-b421-955ab93e2f50",
   "metadata": {},
   "outputs": [
    {
     "data": {
      "text/plain": [
       "'/Users/irene/Projects/LLaMA-Factory/data'"
      ]
     },
     "execution_count": 13,
     "metadata": {},
     "output_type": "execute_result"
    }
   ],
   "source": [
    "%pwd"
   ]
  },
  {
   "cell_type": "code",
   "execution_count": 8,
   "id": "c520839a-c701-46c1-b142-c2425d9e6c41",
   "metadata": {},
   "outputs": [],
   "source": [
    "new_jsons = []\n",
    "for s in ss:\n",
    "    new_json= {}\n",
    "    inst = s['instruction'] +'\\n 회사리스트 :'\n",
    "    inpu = s['input']\n",
    "    output = s['output']\n",
    "    output = re.sub('회사리스트 ?: ?','',output)\n",
    "\n",
    "    output_list = ast.literal_eval(output)\n",
    "    output_str = str(output_list)\n",
    "    new_json['instruction'] = inst\n",
    "    new_json['input'] = ''\n",
    "    new_json['output'] = output_str\n",
    "    new_jsons.append(new_json)\n",
    "\n",
    "    \n"
   ]
  },
  {
   "cell_type": "code",
   "execution_count": 10,
   "id": "6e192717-7549-437f-a23b-95d9572f61ce",
   "metadata": {},
   "outputs": [],
   "source": [
    "# JSON 파일로 저장\n",
    "with open('company_extract.json', 'w', encoding='utf-8') as f:\n",
    "    json.dump(new_jsons, f, ensure_ascii=False, indent=4)"
   ]
  },
  {
   "cell_type": "code",
   "execution_count": null,
   "id": "f414ce48-f9bb-4764-8556-f64d7058c645",
   "metadata": {},
   "outputs": [],
   "source": [
    "## src>llama_factory>data>template.py 추가"
   ]
  },
  {
   "cell_type": "markdown",
   "id": "4f5dd3db-f944-4e18-8d15-0964ca5dd81f",
   "metadata": {},
   "source": [
    "\n",
    "# copied from llama3 template\n",
    "\n",
    "_register_template(\n",
    "    name=\"llama3-extract-company\",\n",
    "    format_user=StringFormatter(\n",
    "        slots=[\n",
    "            (\n",
    "                \"<|start_header_id|>user<|end_header_id|>\\n\\n{{content}}<|eot_id|>\"\n",
    "                \"<|start_header_id|>assistant<|end_header_id|>\"\n",
    "            )\n",
    "        ]\n",
    "    ),\n",
    "    format_system=StringFormatter(\n",
    "        slots=[{\"bos_token\"}, \"<|start_header_id|>system<|end_header_id|>\\n\\n{{content}}<|eot_id|>\"]\n",
    "    ),\n",
    "    format_observation=StringFormatter(\n",
    "        slots=[\n",
    "            (\n",
    "                \"<|start_header_id|>tool<|end_header_id|>\\n\\n{{content}}<|eot_id|>\"\n",
    "                \"<|start_header_id|>assistant<|end_header_id|>\\n\\n\"\n",
    "            )\n",
    "        ]\n",
    "    ),\n",
    "    default_system=\"당신은 주어진 뉴스 기사에서 언급된 회사명을 나열하는 모델입니다.\\n\\n1. 출력은 반드시 파이썬의 리스트 형태로 생성하십시오.\\n\\n2. 회사명을 찾지 못한경우 파이썬 empty list 를 출력하세요. \\n\\n## 뉴스 기사\",\n",
    "    stop_words=[\"<|eot_id|>\"],\n",
    "    replace_eos=True,\n",
    ")    "
   ]
  },
  {
   "cell_type": "code",
   "execution_count": null,
   "id": "73e5818c-1b04-456c-bcd0-a36ab8019eb9",
   "metadata": {},
   "outputs": [],
   "source": []
  }
 ],
 "metadata": {
  "kernelspec": {
   "display_name": "openAI",
   "language": "python",
   "name": "openai"
  },
  "language_info": {
   "codemirror_mode": {
    "name": "ipython",
    "version": 3
   },
   "file_extension": ".py",
   "mimetype": "text/x-python",
   "name": "python",
   "nbconvert_exporter": "python",
   "pygments_lexer": "ipython3",
   "version": "3.10.14"
  }
 },
 "nbformat": 4,
 "nbformat_minor": 5
}
